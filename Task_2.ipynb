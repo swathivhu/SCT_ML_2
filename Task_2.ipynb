{
  "nbformat": 4,
  "nbformat_minor": 0,
  "metadata": {
    "colab": {
      "provenance": []
    },
    "kernelspec": {
      "name": "python3",
      "display_name": "Python 3"
    },
    "language_info": {
      "name": "python"
    }
  },
  "cells": [
    {
      "cell_type": "code",
      "source": [
        "import pandas as pd\n",
        "import numpy as np\n",
        "import matplotlib.pyplot as plt\n",
        "from sklearn.cluster import KMeans\n",
        "from sklearn.preprocessing import StandardScaler"
      ],
      "metadata": {
        "id": "xDXuYexeIaTA"
      },
      "execution_count": null,
      "outputs": []
    },
    {
      "cell_type": "code",
      "source": [
        "# Step 1: Load the data\n",
        "# Replace 'your_data.csv' with the actual file path\n",
        "data=pd.read_excel(\"Mall_Customers.xlsx\")"
      ],
      "metadata": {
        "id": "fIcMZUgAIvbY"
      },
      "execution_count": null,
      "outputs": []
    },
    {
      "cell_type": "code",
      "source": [
        "\n",
        "# Example columns: 'CustomerID', 'TotalSpend', 'NumberOfTransactions', 'AverageTransactionValue'\n",
        "print(data.head())"
      ],
      "metadata": {
        "colab": {
          "base_uri": "https://localhost:8080/"
        },
        "id": "jF5f4-jvIzhu",
        "outputId": "c156d2e5-fc66-4d55-afb5-55a77c5bd7be"
      },
      "execution_count": null,
      "outputs": [
        {
          "output_type": "stream",
          "name": "stdout",
          "text": [
            "   CustomerID   Genre  Age  Annual Income (k$)  Spending Score (1-100)\n",
            "0           1    Male   19                  15                      39\n",
            "1           2    Male   21                  15                      81\n",
            "2           3  Female   20                  16                       6\n",
            "3           4  Female   23                  16                      77\n",
            "4           5  Female   31                  17                      40\n"
          ]
        }
      ]
    },
    {
      "cell_type": "code",
      "source": [
        "# Step 1: Check columns\n",
        "print(data.columns)\n",
        "\n",
        "# Step 2: Verify column names\n",
        "required_columns = ['TotalSpend', 'NumberOfTransactions', 'AverageTransactionValue']\n",
        "missing_columns = [col for col in required_columns if col not in data.columns]\n",
        "if missing_columns:\n",
        "    print(f\"Missing columns: {missing_columns}\")\n",
        "else:\n",
        "    features = data[required_columns]"
      ],
      "metadata": {
        "colab": {
          "base_uri": "https://localhost:8080/"
        },
        "id": "hdRUxwc0I0iJ",
        "outputId": "f0b98da4-116e-4a79-e4f8-68b6523dee2c"
      },
      "execution_count": null,
      "outputs": [
        {
          "output_type": "stream",
          "name": "stdout",
          "text": [
            "Index(['CustomerID', 'Genre', 'Age', 'Annual Income (k$)',\n",
            "       'Spending Score (1-100)'],\n",
            "      dtype='object')\n",
            "Missing columns: ['TotalSpend', 'NumberOfTransactions', 'AverageTransactionValue']\n"
          ]
        }
      ]
    },
    {
      "cell_type": "code",
      "source": [
        "# Import necessary libraries\n",
        "import numpy as np\n",
        "from sklearn.preprocessing import StandardScaler\n",
        "\n",
        "# Create a sample dataset\n",
        "data = np.array([[1.0, 2.0, 3.0],\n",
        "                 [4.0, 5.0, 6.0],\n",
        "                 [7.0, 8.0, 9.0]])\n",
        "\n",
        "# Print the original data\n",
        "print(\"Original data:\")\n",
        "print(data)\n",
        "\n",
        "# Initialize the StandardScaler\n",
        "scaler = StandardScaler()\n",
        "\n",
        "# Fit the scaler to the data and transform the data\n",
        "scaled_features = scaler.fit_transform(data)\n",
        "\n",
        "# Print the scaled features\n",
        "print(\"\\nScaled features:\")\n",
        "print(scaled_features)"
      ],
      "metadata": {
        "colab": {
          "base_uri": "https://localhost:8080/"
        },
        "id": "xxj-U5v5I3_y",
        "outputId": "5185a8fe-4f0a-4e63-ff07-2daf54acbfee"
      },
      "execution_count": null,
      "outputs": [
        {
          "output_type": "stream",
          "name": "stdout",
          "text": [
            "Original data:\n",
            "[[1. 2. 3.]\n",
            " [4. 5. 6.]\n",
            " [7. 8. 9.]]\n",
            "\n",
            "Scaled features:\n",
            "[[-1.22474487 -1.22474487 -1.22474487]\n",
            " [ 0.          0.          0.        ]\n",
            " [ 1.22474487  1.22474487  1.22474487]]\n"
          ]
        }
      ]
    },
    {
      "cell_type": "code",
      "source": [
        "# Import necessary libraries\n",
        "import numpy as np\n",
        "from sklearn.cluster import KMeans\n",
        "\n",
        "# Create sample data\n",
        "data = np.array([[1.0, 2.0],\n",
        "                 [1.5, 1.8],\n",
        "                 [5.0, 8.0],\n",
        "                 [8.0, 8.0],\n",
        "                 [1.0, 0.6],\n",
        "                 [9.0, 11.0]])\n",
        "\n",
        "# Initialize the K-means model\n",
        "kmeans = KMeans(n_clusters=2, random_state=0)\n",
        "\n",
        "# Fit the model to the data\n",
        "kmeans.fit(data)\n",
        "\n",
        "# Retrieve and print the inertia\n",
        "inertia = kmeans.inertia_\n",
        "print(\"Inertia:\", inertia)"
      ],
      "metadata": {
        "colab": {
          "base_uri": "https://localhost:8080/"
        },
        "id": "4TChWxDKI61Z",
        "outputId": "2fec8c82-a894-493e-a711-383b282aef6a"
      },
      "execution_count": null,
      "outputs": [
        {
          "output_type": "stream",
          "name": "stdout",
          "text": [
            "Inertia: 15.98\n"
          ]
        }
      ]
    },
    {
      "cell_type": "code",
      "source": [
        "import numpy as np\n",
        "import matplotlib.pyplot as plt\n",
        "from sklearn.cluster import KMeans\n",
        "\n",
        "# Create sample data\n",
        "data = np.array([[1.0, 2.0],\n",
        "                 [1.5, 1.8],\n",
        "                 [5.0, 8.0],\n",
        "                 [8.0, 8.0],\n",
        "                 [1.0, 0.6],\n",
        "                 [9.0, 11.0]])\n",
        "\n",
        "# Range of cluster numbers to evaluate\n",
        "k_values = range(1, len(data) + 1)  # Limit clusters to the number of samples\n",
        "\n",
        "# List to store inertia values\n",
        "inertia_values = []\n",
        "\n",
        "# Calculate inertia for each number of clusters\n",
        "for k in k_values:\n",
        "    kmeans = KMeans(n_clusters=k, random_state=0)\n",
        "    kmeans.fit(data)\n",
        "    inertia_values.append(kmeans.inertia_)\n",
        "\n",
        "# Plot the Elbow Method\n",
        "plt.figure(figsize=(8, 4))\n",
        "plt.plot(k_values, inertia_values, marker='o', linestyle='-')\n",
        "plt.title('Elbow Method for Optimal K')\n",
        "plt.xlabel('Number of Clusters')\n",
        "plt.ylabel('Inertia')\n",
        "plt.grid()\n",
        "plt.show()"
      ],
      "metadata": {
        "colab": {
          "base_uri": "https://localhost:8080/",
          "height": 410
        },
        "id": "NoZU6-7GI-Ro",
        "outputId": "458a4581-f981-4a1b-c194-f876b9ccd5f0"
      },
      "execution_count": null,
      "outputs": [
        {
          "output_type": "display_data",
          "data": {
            "text/plain": [
              "<Figure size 800x400 with 1 Axes>"
            ],
            "image/png": "[encoded data removed]"
          },
          "metadata": {}
        }
      ]
    },
    {
      "cell_type": "code",
      "source": [
        "print(data)"
      ],
      "metadata": {
        "colab": {
          "base_uri": "https://localhost:8080/"
        },
        "id": "nj8VW2WeJyRd",
        "outputId": "9ce9d85a-2b87-4747-f188-da97f24e40f9"
      },
      "execution_count": null,
      "outputs": [
        {
          "output_type": "stream",
          "name": "stdout",
          "text": [
            "[[ 1.   2. ]\n",
            " [ 1.5  1.8]\n",
            " [ 5.   8. ]\n",
            " [ 8.   8. ]\n",
            " [ 1.   0.6]\n",
            " [ 9.  11. ]]\n"
          ]
        }
      ]
    },
    {
      "cell_type": "code",
      "source": [
        "\n",
        "from sklearn.cluster import KMeans\n",
        "from sklearn.preprocessing import StandardScaler\n",
        "import pandas as pd\n",
        "\n",
        "# Example DataFrame\n",
        "data = pd.DataFrame({\n",
        "    'TotalSpend': [100, 200, 150],\n",
        "    'NumberOfTransactions': [10, 15, 8],\n",
        "    'AverageTransactionValue': [10, 13.33, 18.75]\n",
        "})\n",
        "\n",
        "# Scaling features\n",
        "scaler = StandardScaler()\n",
        "scaled_features = scaler.fit_transform(data[['TotalSpend', 'NumberOfTransactions', 'AverageTransactionValue']])\n",
        "\n",
        "# Dynamically determine optimal_k\n",
        "optimal_k = min(4, len(scaled_features))\n",
        "kmeans = KMeans(n_clusters=optimal_k, random_state=42)\n",
        "data['Cluster'] = kmeans.fit_predict(scaled_features)\n",
        "\n",
        "print(data)"
      ],
      "metadata": {
        "colab": {
          "base_uri": "https://localhost:8080/"
        },
        "id": "OyALtILaJzRS",
        "outputId": "7b4edda5-2a9a-46d2-8c7a-6bb7498bb9fd"
      },
      "execution_count": null,
      "outputs": [
        {
          "output_type": "stream",
          "name": "stdout",
          "text": [
            "   TotalSpend  NumberOfTransactions  AverageTransactionValue  Cluster\n",
            "0         100                    10                    10.00        2\n",
            "1         200                    15                    13.33        0\n",
            "2         150                     8                    18.75        1\n"
          ]
        }
      ]
    },
    {
      "cell_type": "code",
      "source": [
        "\n",
        "# Step 6: Visualize the clusters (for 2D or 3D data)\n",
        "plt.figure(figsize=(8, 6))\n",
        "for cluster in range(optimal_k):\n",
        "    cluster_data = data[data['Cluster'] == cluster]\n",
        "    plt.scatter(cluster_data['TotalSpend'], cluster_data['NumberOfTransactions'], label=f'Cluster {cluster}')\n",
        "plt.xlabel('Total Spend')\n",
        "plt.ylabel('Number of Transactions')\n",
        "plt.legend()\n",
        "plt.title('Customer Clusters')\n",
        "plt.show()"
      ],
      "metadata": {
        "colab": {
          "base_uri": "https://localhost:8080/",
          "height": 564
        },
        "id": "x5fElYxZJ31s",
        "outputId": "984e57dd-62e2-43b9-e68b-f71f7c04b1a4"
      },
      "execution_count": null,
      "outputs": [
        {
          "output_type": "display_data",
          "data": {
            "text/plain": [
              "<Figure size 800x600 with 1 Axes>"
            ],
            "image/png": "[encoded data removed]"
          },
          "metadata": {}
        }
      ]
    }
  ]
}